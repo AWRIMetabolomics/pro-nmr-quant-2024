{
 "cells": [
  {
   "cell_type": "markdown",
   "metadata": {},
   "source": [
    "# Training Step: Fit Calibration Function (Gradient)\n",
    "\n",
    "* Training Data: 33 unique sample IDs with to bootstrap a gradient with. Final output is a distro of gradients.\n",
    "* Fitting a gradient goes slightly beyond just doing it once with the training data: use bootstrapping to fit a histogram of gradients. "
   ]
  },
  {
   "cell_type": "code",
   "execution_count": 1,
   "metadata": {},
   "outputs": [],
   "source": [
    "%matplotlib inline\n",
    "import matplotlib.pyplot as plt\n",
    "import matplotlib.patches as patches\n",
    "\n",
    "import numpy as np\n",
    "import pandas as pd\n",
    "from dotenv import load_dotenv\n",
    "import os\n",
    "import json\n",
    "import time\n",
    "from io import StringIO\n",
    "from datetime import datetime\n",
    "import re\n",
    "import math\n",
    "\n",
    "from sklearn.linear_model import LinearRegression\n",
    "from scipy import integrate\n",
    "from scipy.signal import find_peaks\n",
    "\n",
    "from nmr_targeted_utils import *\n",
    "from nmr_fitting_funcs import *\n"
   ]
  },
  {
   "cell_type": "markdown",
   "metadata": {},
   "source": [
    "# Load Data"
   ]
  },
  {
   "cell_type": "code",
   "execution_count": 2,
   "metadata": {
    "tags": []
   },
   "outputs": [
    {
     "name": "stdout",
     "output_type": "stream",
     "text": [
      "fit results will be saved to folder: ./results/trg_fit-20241225_2021/\n",
      "Loaded 128 training samples.\n"
     ]
    }
   ],
   "source": [
    "# ===== params =====\n",
    "load_dotenv()\n",
    "\n",
    "path_samples = os.getenv(\"TRG_PATH\")\n",
    "template_path = \"./assets/lproline_ph3.csv\"\n",
    "#path_samples = \"/Users/dteng/Documents/zdata/nmr/J202208B_pro_survey/training_set_csvs/\"\n",
    "bs_grad_path = \"./results/bootstrap_results.csv\"\n",
    "\n",
    "# proline multiplet coords\n",
    "multiplets_ls = [[1.9,2.15], [2.295, 2.403], [3.25, 3.5],[4.1, 4.2]]\n",
    "\n",
    "normxcorr_th = 0.0 # set to this number to filter out multiplets which aren't at least normxcorr_th, i.e. poor fits\n",
    "ref_pk_window = [-0.2, 0.2]\n",
    "ref_pk_tolerance_window = [0,0]\n",
    "search_region_padding_size = 0.02\n",
    "\n",
    "timestamp = datetime.now().strftime(\"%Y%m%d_%H%M\")\n",
    "folder_name = f\"./results/trg_fit-{timestamp}\"\n",
    "fn_out_plot = \"training_fit_viz.html\"\n",
    "print(f\"fit results will be saved to folder: {folder_name}/\")\n",
    "\n",
    "# ========== load data ==========\n",
    "# load STD template(s)\n",
    "template_df = pd.read_csv(template_path)\n",
    "template_df = adjust_to_ref_peak(template_df, ref_pk_window, ref_pk_tolerance_window)\n",
    "\n",
    "# load sample (training) data - only QCs and Rs\n",
    "df_dict = {}\n",
    "for fn in os.listdir(path_samples):\n",
    "    if \".csv\" in fn:\n",
    "        k = fn.split(\".\")[0].replace(\"_QC\", \"_Q\")\n",
    "        df_dict[k] = pd.read_csv(os.path.join(path_samples, fn))\n",
    "print(f\"Loaded {len(df_dict)} training samples.\")\n",
    "\n",
    "# manually specify matching regions, that will be used for least-squares fitting later\n",
    "matching_regions_ls = [\n",
    "    [2.305, 2.306],\n",
    "    [2.31, 2.316],\n",
    "    [2.321, 2.3225],\n",
    "    [2.331, 2.333],\n",
    "    [2.337, 2.339],\n",
    "    [2.342, 2.3445],\n",
    "    [2.347, 2.349],\n",
    "    [2.3585, 2.3605],\n",
    "    [2.365, 2.3675],\n",
    "    [2.3755, 2.3765],\n",
    "    [2.381, 2.39]\n",
    "]"
   ]
  },
  {
   "cell_type": "markdown",
   "metadata": {},
   "source": [
    "# Run"
   ]
  },
  {
   "cell_type": "code",
   "execution_count": 3,
   "metadata": {},
   "outputs": [
    {
     "name": "stdout",
     "output_type": "stream",
     "text": [
      "WARNING: shifting blues instead of reds in get_blue_m1_dict().\n"
     ]
    }
   ],
   "source": [
    "# ===== run 1d_std_search =====\n",
    "results_dict = {}\n",
    "for k in sorted(list(df_dict.keys())):\n",
    "    target_df = df_dict[k]\n",
    "    results_dict[k] = do_1d_std_search(\n",
    "        query_df=template_df,\n",
    "        target_df=target_df,\n",
    "        multiplets_ls=multiplets_ls,\n",
    "        search_region_padding_size=search_region_padding_size\n",
    "    )\n",
    "\n",
    "# get reds\n",
    "red_dt = template_df.copy()\n",
    "red_dt = red_dt.loc[(red_dt[\"ppm\"]>min(multiplets_ls[1])) & (red_dt[\"ppm\"]<max(multiplets_ls[1]))]\n",
    "\n",
    "# get blues\n",
    "blue_m1_dict = get_blue_m1_dict(results_dict, \n",
    "                                df_dict,\n",
    "                                mcoords=multiplets_ls[1]\n",
    "                               )\n",
    "\n",
    "# ===== get corr_series_dict =====\n",
    "# get corr_series for each k, stored in corr_series_dict\n",
    "corr_series_dict = {}\n",
    "for k in sorted(list(results_dict.keys())):\n",
    "    dt = get_correlation_series(red_dt, \n",
    "                                blue_m1_dict[k].copy(),\n",
    "                                min_corr=0, \n",
    "                                min_corr_replacement_value=0,\n",
    "                                window_size_nrows=64,\n",
    "                                exponent=8\n",
    "                               )\n",
    "    corr_series_dict[k] = dt\n",
    "\n",
    "# ===== run LR matching =====\n",
    "df_conc = get_df_conc_lrmatching(\n",
    "    results_dict=results_dict, \n",
    "    template_df=template_df.copy(), \n",
    "    df_dict=df_dict, \n",
    "    mcoords=multiplets_ls[1],\n",
    "    matching_coords_ls=matching_regions_ls,\n",
    "    corr_series_dict=corr_series_dict\n",
    ")\n"
   ]
  },
  {
   "cell_type": "markdown",
   "metadata": {},
   "source": [
    "# Viz Fit Results"
   ]
  },
  {
   "cell_type": "code",
   "execution_count": 10,
   "metadata": {},
   "outputs": [
    {
     "name": "stdout",
     "output_type": "stream",
     "text": [
      "Done in 13.26s\n"
     ]
    },
    {
     "name": "stderr",
     "output_type": "stream",
     "text": [
      "/Library/Frameworks/Python.framework/Versions/3.10/lib/python3.10/site-packages/bs4/builder/__init__.py:545: XMLParsedAsHTMLWarning: It looks like you're parsing an XML document using an HTML parser. If this really is an HTML document (maybe it's XHTML?), you can ignore or filter this warning. If it's XML, you should know that using an XML parser will be more reliable. To parse this document as XML, make sure you have the lxml package installed, and pass the keyword argument `features=\"xml\"` into the BeautifulSoup constructor.\n",
      "  warnings.warn(\n"
     ]
    },
    {
     "name": "stdout",
     "output_type": "stream",
     "text": [
      "Wrote out to: ./results/trg_fit-20241225_2021/training_fit_viz.html\n"
     ]
    }
   ],
   "source": [
    "# plot multiplet_1 only\n",
    "t0 = time.time()\n",
    "\n",
    "# ===== plot match results =====\n",
    "fig, ax = plt.subplots(nrows=len(results_dict), # top row for LR results\n",
    "                       ncols=1, \n",
    "                       figsize=(7, len(results_dict)*4)\n",
    "                      )\n",
    "\n",
    "red_dt = template_df.copy()\n",
    "red_dt = red_dt.loc[(red_dt[\"ppm\"]>min(multiplets_ls[1])) & (red_dt[\"ppm\"]<max(multiplets_ls[1]))]\n",
    "\n",
    "i = 0\n",
    "for k in sorted(list(results_dict.keys())):\n",
    "    # plot fit\n",
    "    normxcorr = results_dict[k][\"multiplet_1\"][\"max_rho\"][0]\n",
    "    ax[i].plot(blue_m1_dict[k].ppm.values, \n",
    "               blue_m1_dict[k].intensity.values, c=\"steelblue\")\n",
    "\n",
    "    m = df_conc.loc[df_conc[\"sample_name\"]==k][\"slope\"].values[0]\n",
    "    c = df_conc.loc[df_conc[\"sample_name\"]==k][\"intercept\"].values[0]\n",
    "    ax[i].plot(red_dt.ppm.values, \n",
    "               (red_dt.intensity.values*m)+c, \n",
    "               c=\"indianred\")\n",
    "\n",
    "    ax[i].set_title(f\"{i+1}. {k}\\nnormxcorr={round(normxcorr, 4)}\", fontsize=20)\n",
    "    \n",
    "    # plot sliding window of correlation\n",
    "    ax2 = ax[i].twinx()\n",
    "    ax2.plot(corr_series_dict[k][\"ppm\"], \n",
    "             corr_series_dict[k][\"corr_series\"], \n",
    "             lw=0.7,\n",
    "             c=\"k\")\n",
    "    \n",
    "    # set bg colour\n",
    "    transparency = 0.65\n",
    "    bg_colour = (1, 159/255, 165/255, transparency) # red\n",
    "    if normxcorr >= 0.85 and normxcorr < 0.9:\n",
    "        bg_colour = (1, 184/255, 100/255, transparency) # orange\n",
    "    if normxcorr >= 0.9 and normxcorr < 0.95:\n",
    "        bg_colour = (1, 242/255, 100/255, transparency) # yellow     \n",
    "    if normxcorr >= 0.95 and normxcorr < 0.99:\n",
    "        bg_colour = (150/255, 1, 153/255, transparency) # green\n",
    "    elif normxcorr >= 0.99:\n",
    "        bg_colour = (140/255, 220/255, 1, transparency) # light blue\n",
    "    ax[i].set_facecolor(bg_colour)\n",
    "    plt.setp(ax[i].get_xticklabels(), fontsize=20)\n",
    "    plt.setp(ax[i].get_yticklabels(), fontsize=20)\n",
    "    \n",
    "    # draw matching regions\n",
    "    rect_height = ax[i].get_ylim()[1]\n",
    "    for row in matching_regions_ls:\n",
    "        # Create a rectangle patch\n",
    "        rect = patches.Rectangle((min(row), 0), \n",
    "                                 max(row) - min(row), \n",
    "                                 rect_height, \n",
    "                                 edgecolor=None,\n",
    "                                 facecolor='grey', \n",
    "                                 alpha=0.25)\n",
    "\n",
    "        # Add the rectangle patch to the plot\n",
    "        ax[i].add_patch(rect)\n",
    "\n",
    "    i += 1\n",
    "\n",
    "plt.subplots_adjust(hspace=0.2, wspace=0)\n",
    "plt.tight_layout()\n",
    "plt.close()\n",
    "\n",
    "print(\"Done in %.2fs\" % (time.time() - t0))\n",
    "\n",
    "i = StringIO()\n",
    "fig.savefig(i, format=\"svg\")\n",
    "output_svg = i.getvalue().strip().split(\"\\n\")\n",
    "output_svg = \"\".join(output_svg)\n",
    "svg_ls = resize_svg_bs4(output_svg, resize_coeff=0.65)\n",
    "\n",
    "# ===== prep html report =====\n",
    "# not written as a function because of the sheer number of inputs required\n",
    "html_contents = [\"<html><head></head><body>\"]\n",
    "\n",
    "html_contents.append(\"<ul>\")\n",
    "html_contents.append(f\"<li>Report generated: {datetime.today().strftime('%d %b %y, %-I:%M%p')}</li>\")\n",
    "html_contents.append(f\"<li>num_samples = {len(results_dict)}</li>\")\n",
    "html_contents.append(f\"<li>template = {template_path.split('/')[-1]}</li>\")\n",
    "html_contents.append(f\"<li>normxcorr threshold = {normxcorr_th}</li>\")\n",
    "html_contents.append(f\"<li>ref peak window = {ref_pk_window}</li>\")\n",
    "html_contents.append(f\"<li>ref peak tolerance window = {ref_pk_tolerance_window}</li>\")\n",
    "html_contents.append(f\"<li>search region padding size (ppm) = {search_region_padding_size}</li>\")\n",
    "#html_contents.append(f\"<li>Output csv = {fn_out_df}</li>\")\n",
    "html_contents.append(\"</ul>\")\n",
    "\n",
    "html_contents.append(\"<hr>\")\n",
    "for line in output_svg:\n",
    "    html_contents.append(line)\n",
    "html_contents.append(\"</body></html>\")\n",
    "\n",
    "# ===== write out =====\n",
    "# make foldername\n",
    "os.makedirs(folder_name, exist_ok=True)\n",
    "\n",
    "with open(f\"./{folder_name}/{fn_out_plot}\", \"w\") as f:\n",
    "    for line in html_contents:\n",
    "        f.write(line)\n",
    "\n",
    "print(f\"Wrote out to: {folder_name}/{fn_out_plot}\")"
   ]
  },
  {
   "cell_type": "code",
   "execution_count": null,
   "metadata": {},
   "outputs": [],
   "source": [
    "# ===== write out csv =====\n",
    "# write out a formatted csv as input to bootstrapping.R\n",
    "d0 = df_conc.copy()\n",
    "af_id_q_ls = []\n",
    "af_id_r_ls = []\n",
    "for nm in d0[\"sample_name\"].values:\n",
    "    if (\"_Q1\" in nm) or (\"_Q2\" in nm):\n",
    "        af_id_q_ls.append(nm)\n",
    "        r_name = nm.replace(\"_Q1\", \"_R1\").replace(\"_Q2\", \"_R2\")\n",
    "        af_id_r_ls.append(r_name)\n",
    "\n",
    "d0_q = d0.loc[d0[\"sample_name\"].isin(af_id_q_ls)].reset_index(drop=True)[['sample_name', 'auc']]\n",
    "d0_r = d0.loc[d0[\"sample_name\"].isin(af_id_r_ls)].reset_index(drop=True)[['sample_name', 'auc']]\n",
    "d0_q.columns = [\"sample_name_q\", \"auc_q\"]\n",
    "d0_r.columns = [\"sample_name_r\", \"auc_r\"]\n",
    "\n",
    "dz = pd.concat([d0_q, d0_r], axis=1)\n",
    "\n",
    "# write out\n",
    "dz.to_csv(f\"{folder_name}/df_conc_t.csv\", index=False)\n",
    "print(\"Wrote out df_conc_t.csv as a formatted input to bootstrapping.R\")"
   ]
  },
  {
   "cell_type": "markdown",
   "metadata": {
    "tags": []
   },
   "source": [
    "# Estimate Distribution of Gradient\n",
    "\n",
    "* Bootstrapping = \"out of a population of size m, repeatedly take sample of size n with replacement.\"\n",
    "* Run the bootstrapping cell (indicated by a comment \"#bootstrapping cell\" in the first line) iteratively in this workbook to get a rough idea of \"start\" and \"end\", for bootstrapping bounds. The bootstrapping cell is run with only a few (10 or 100) bootstrap samples (or `num_iter`). After that, plot a histogram of gradients in the cell after. Make sure that this histogram contains a maxima. If it doesn't, it means that your choice of start and end need to be shifted until `start` and `end` enclose a maxima.\n",
    "* You can do a bootstrapping run in this notebook if you're willing to wait a few hours (just increase `num_iter` to a very high number like 5000), or you can run `bootstrapping.R` (that uses parallel processing) in a cloud VM of your choice. "
   ]
  },
  {
   "cell_type": "code",
   "execution_count": 12,
   "metadata": {},
   "outputs": [],
   "source": [
    "# data wrangling cell to wrangle data into a format to use in the next cell\n",
    "d0 = df_conc.copy()\n",
    "\n",
    "# get list of unique AF IDs\n",
    "temp_ls = list(set([x.replace(\"_Q1\", \"\").replace(\"_Q2\", \"\").replace(\"_R1\", \"\").replace(\"_R2\", \"\") for x in d0[\"sample_name\"].values]))\n",
    "\n",
    "uq_af_id_ls = []\n",
    "outliers_ls = [\"AWAC105\", \"AF63412\"] # manually exclude known outliers\n",
    "for af_id in temp_ls:\n",
    "    if af_id not in outliers_ls:\n",
    "        uq_af_id_ls.append(af_id)\n",
    "\n",
    "# Get name pairs for each AF ID\n",
    "af_id_namepair_ls = []\n",
    "af_id_q_ls = []\n",
    "af_id_r_ls = []\n",
    "for af_id in uq_af_id_ls:\n",
    "    k = af_id+\"_Q1\"\n",
    "    val = af_id+\"_R1\"\n",
    "    af_id_namepair_ls.append([k, val])\n",
    "    k = af_id+\"_Q2\"\n",
    "    val = af_id+\"_R2\"\n",
    "    af_id_namepair_ls.append([k, val])\n",
    "    \n",
    "    af_id_q_ls.append(af_id+\"_Q1\")\n",
    "    af_id_q_ls.append(af_id+\"_Q2\")\n",
    "    \n",
    "    af_id_r_ls.append(af_id+\"_R1\")\n",
    "    af_id_r_ls.append(af_id+\"_R2\")\n",
    "\n",
    "af_id_namepair_ls = np.array(af_id_namepair_ls)\n",
    "d0_q = d0.loc[d0[\"sample_name\"].isin(af_id_q_ls)].copy()[[\"sample_name\", \"auc\"]]\n",
    "d0_r = d0.loc[d0[\"sample_name\"].isin(af_id_r_ls)].copy()[[\"sample_name\", \"auc\"]]\n",
    "m_q = d0_q.values\n",
    "m_r = d0_r.values\n",
    "\n",
    "# sanity check: m_q and r_q must have the same Q and R AF_IDs in each row\n",
    "# there will be no 'ERROR...' printout if all clear\n",
    "for i in range(len(m_q)):\n",
    "    afid_q = m_q[i][0].replace(\"_Q1\", \"\").replace(\"_Q2\", \"\")\n",
    "    afid_r = m_r[i][0].replace(\"_R1\", \"\").replace(\"_R2\", \"\")\n",
    "    if afid_q != afid_r:\n",
    "        print(f\"ERROR: AF IDs not the same in row {i}!\")"
   ]
  },
  {
   "cell_type": "code",
   "execution_count": 13,
   "metadata": {
    "tags": []
   },
   "outputs": [
    {
     "name": "stdout",
     "output_type": "stream",
     "text": [
      "Done in 36.24s\n"
     ]
    }
   ],
   "source": [
    "#bootstrapping cell\n",
    "t0 = time.perf_counter()\n",
    "\n",
    "end = 1.3E-9\n",
    "start = 1.26E-9\n",
    "grad_ls = get_sf_range(\n",
    "    start=start,\n",
    "    end=end,\n",
    "    iter_size=1E-15 #interval_width\n",
    ")\n",
    "\n",
    "# start at 10 or 100 to estimate time taken, increase if you feel like it\n",
    "# best to increase until you see a nice bell-shape in the histogram below\n",
    "num_bootstrap_samples = 100\n",
    "\n",
    "mse_ls_ls = []\n",
    "best_grad_ls = []\n",
    "for i in range(num_bootstrap_samples):\n",
    "    bootstrap_idx_ls = np.random.choice(np.arange(len(af_id_namepair_ls)), \n",
    "                                    size=len(af_id_namepair_ls), \n",
    "                                    replace=True\n",
    "                                   )\n",
    "    bootstrap_samples_ls = af_id_namepair_ls[bootstrap_idx_ls]\n",
    "    \n",
    "    auc_q_ls = d0.loc[d0[\"sample_name\"].isin(bootstrap_samples_ls[:, 0])][\"auc\"].values\n",
    "    auc_r_ls = d0.loc[d0[\"sample_name\"].isin(bootstrap_samples_ls[:, 1])][\"auc\"].values\n",
    "    \n",
    "    mse_ls = []\n",
    "    for grad in grad_ls:\n",
    "        # this is a matrix operation, maybe np.matmul faster?\n",
    "        err_ls = (grad*auc_q_ls) - (grad*auc_r_ls) - 1115\n",
    "        mse = np.sum(np.square(err_ls))\n",
    "        mse_ls.append(mse)\n",
    "\n",
    "    best_grad = grad_ls[np.argmin(mse_ls)]\n",
    "    #mse_ls_ls.append(mse_ls)\n",
    "    best_grad_ls.append(best_grad)\n",
    "\n",
    "ave_best_grad = np.average(best_grad_ls)\n",
    "\n",
    "print(\"Done in %.2fs\" % (time.perf_counter() - t0))\n"
   ]
  },
  {
   "cell_type": "code",
   "execution_count": 14,
   "metadata": {},
   "outputs": [
    {
     "data": {
      "image/png": "[encoded data removed]",
      "text/plain": [
       "<Figure size 640x480 with 1 Axes>"
      ]
     },
     "metadata": {},
     "output_type": "display_data"
    },
    {
     "name": "stdout",
     "output_type": "stream",
     "text": [
      "1.2791307100000004e-09\n"
     ]
    }
   ],
   "source": [
    "plt.hist(best_grad_ls, bins=50)\n",
    "\n",
    "plt.show()\n",
    "print(np.average(best_grad_ls))"
   ]
  },
  {
   "cell_type": "code",
   "execution_count": null,
   "metadata": {},
   "outputs": [],
   "source": [
    "# save\n",
    "dt = pd.DataFrame(data=best_grad_ls, columns=[\"grad_val\"])\n",
    "dt.to_csv(\"./results/bootstrap_results.csv\", index=False)"
   ]
  },
  {
   "cell_type": "code",
   "execution_count": null,
   "metadata": {},
   "outputs": [],
   "source": []
  }
 ],
 "metadata": {
  "kernelspec": {
   "display_name": "Python 3 (ipykernel)",
   "language": "python",
   "name": "python3"
  },
  "language_info": {
   "codemirror_mode": {
    "name": "ipython",
    "version": 3
   },
   "file_extension": ".py",
   "mimetype": "text/x-python",
   "name": "python",
   "nbconvert_exporter": "python",
   "pygments_lexer": "ipython3",
   "version": "3.10.0"
  }
 },
 "nbformat": 4,
 "nbformat_minor": 4
}
