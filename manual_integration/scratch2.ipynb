{
 "cells": [
  {
   "cell_type": "code",
   "execution_count": 1,
   "id": "52d9df9c-6814-4696-9f0c-7772c4cb659e",
   "metadata": {},
   "outputs": [],
   "source": [
    "# CELL 1\n",
    "%matplotlib inline\n",
    "import matplotlib.pyplot as plt\n",
    "import matplotlib.patches as patches\n",
    "\n",
    "import numpy as np\n",
    "import pandas as pd\n",
    "pd.set_option('display.max_rows', 50)\n",
    "import os\n",
    "import json\n",
    "import time\n",
    "import re\n",
    "import math\n",
    "import pickle\n",
    "\n",
    "import sys\n",
    "sys.path.append(\"/Users/dteng/Documents/bin/nmr_utils/\")\n",
    "from nmr_targeted_utils import *\n",
    "from nmr_fitting_funcs import *\n"
   ]
  },
  {
   "cell_type": "code",
   "execution_count": 3,
   "id": "b43798c3-9927-40db-b581-20a98227959f",
   "metadata": {},
   "outputs": [],
   "source": [
    "template_path = \"lproline_ph3.csv\"\n",
    "#blue_m1_pkl_path = \"blue_m1_dict_20240214.pkl\"\n",
    "path_samples = \"/Users/dteng/Documents/zdata/nmr/manual-processing-14feb2024_pkg/manual-processing-14feb2024_csvs\"\n",
    "catapp_csv_dir = \"run_out_2024-02-19-2139_73aab3cec30550025789fa40/spectra_csv_dir\"\n",
    "multiplets_ls = [[1.9,2.15], [2.295, 2.403], [3.25, 3.5],[4.1, 4.2]]\n",
    "mcoords = multiplets_ls[1]\n",
    "ref_pk_window = [-0.1, 0.1]\n",
    "ref_pk_tolerance_window = [0, 0]\n",
    "# value of search_region_padding_size doesn't really matter, \n",
    "# since manual integ will sort this out anyway\n",
    "search_region_padding_size = 0.01\n",
    "\n",
    "blue_m1_dict_orig = {}\n",
    "for fn in os.listdir(path_samples):\n",
    "    if \".csv\" in fn:\n",
    "        k = fn.replace(\".csv\", \"\")\n",
    "        dt = pd.read_csv(os.path.join(path_samples, fn))\n",
    "        dt = adjust_to_ref_peak(dt, ref_pk_window, ref_pk_tolerance_window)\n",
    "        dt = dt.loc[(dt[\"ppm\"] > min(mcoords) - search_region_padding_size) & (dt[\"ppm\"] < max(mcoords) + search_region_padding_size)].copy()\n",
    "        blue_m1_dict_orig[k] = dt\n",
    "\n",
    "blue_m1_dict_v2 = {}\n",
    "for fn in os.listdir(catapp_csv_dir):\n",
    "    if \".csv\" in fn:\n",
    "        k = fn.replace(\".csv\", \"\")\n",
    "        dt = pd.read_csv(os.path.join(catapp_csv_dir, fn))\n",
    "        dt = adjust_to_ref_peak(dt, ref_pk_window, ref_pk_tolerance_window)\n",
    "        dt = dt.loc[(dt[\"ppm\"] > min(mcoords) - search_region_padding_size) & (dt[\"ppm\"] < max(mcoords) + search_region_padding_size)].copy()\n",
    "        blue_m1_dict_v2[k] = dt\n"
   ]
  },
  {
   "cell_type": "code",
   "execution_count": 4,
   "id": "fd21fe09-b41f-40ee-97e1-9f1e126d30f9",
   "metadata": {},
   "outputs": [],
   "source": [
    "! open ."
   ]
  },
  {
   "cell_type": "code",
   "execution_count": null,
   "id": "80ee49c4-ebc8-415a-b674-8d765c764859",
   "metadata": {},
   "outputs": [],
   "source": []
  }
 ],
 "metadata": {
  "kernelspec": {
   "display_name": "Python 3 (ipykernel)",
   "language": "python",
   "name": "python3"
  },
  "language_info": {
   "codemirror_mode": {
    "name": "ipython",
    "version": 3
   },
   "file_extension": ".py",
   "mimetype": "text/x-python",
   "name": "python",
   "nbconvert_exporter": "python",
   "pygments_lexer": "ipython3",
   "version": "3.10.0"
  }
 },
 "nbformat": 4,
 "nbformat_minor": 5
}
