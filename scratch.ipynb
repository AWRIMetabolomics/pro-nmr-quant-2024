{
 "cells": [
  {
   "cell_type": "code",
   "execution_count": 1,
   "id": "6379a638",
   "metadata": {},
   "outputs": [],
   "source": [
    "import numpy as np\n",
    "import pandas as pd\n",
    "import os\n",
    "\n",
    "bruker_conc = {\"20220111_Wine2\": 1.8,\n",
    "               \"20220111_Wine4\": 3.8,\n",
    "               \"20220113_Reacquire_Wine22\": 2.5,\n",
    "               \"20220113_Reacquire_Wine25\": 1.7}"
   ]
  },
  {
   "cell_type": "code",
   "execution_count": 2,
   "id": "b50cd5c1",
   "metadata": {},
   "outputs": [],
   "source": [
    "path0 = \"/Users/dteng/Documents/zdata/nmr/J202208B_pro_survey\"\n",
    "fn_ls = [\"J202208B_ProlineSurvey_20230517\", \n",
    "         \"J202208B_ProlineSurvey_20230525\",\n",
    "         \"J202208B_ProlineSurvey_20230616\",\n",
    "         \"J202208B_ProlineSurvey_20230630\"\n",
    "        ]\n",
    "\n",
    "for fn in fn_ls:\n",
    "    os.mkdir(os.path.join(path0, fn+\"_pkg\"))\n",
    "    # create subdirs\n",
    "    os.mkdir(os.path.join(path0, fn+\"_pkg\", fn+\"_csvs\"))\n",
    "    os.mkdir(os.path.join(path0, fn+\"_pkg\", fn+\"_loz_csvs\"))\n",
    "    os.mkdir(os.path.join(path0, fn+\"_pkg\", fn+\"_jres_csvs\"))"
   ]
  },
  {
   "cell_type": "code",
   "execution_count": null,
   "id": "7d277367-4468-41a4-a5d3-c888ade608c9",
   "metadata": {},
   "outputs": [],
   "source": []
  }
 ],
 "metadata": {
  "kernelspec": {
   "display_name": "Python 3 (ipykernel)",
   "language": "python",
   "name": "python3"
  },
  "language_info": {
   "codemirror_mode": {
    "name": "ipython",
    "version": 3
   },
   "file_extension": ".py",
   "mimetype": "text/x-python",
   "name": "python",
   "nbconvert_exporter": "python",
   "pygments_lexer": "ipython3",
   "version": "3.10.0"
  }
 },
 "nbformat": 4,
 "nbformat_minor": 5
}
