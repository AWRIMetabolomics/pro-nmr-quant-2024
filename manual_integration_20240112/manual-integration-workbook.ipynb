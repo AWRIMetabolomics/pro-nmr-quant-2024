{
 "cells": [
  {
   "cell_type": "markdown",
   "id": "0f4b2ac5-4b9b-4477-82d5-38a45322322e",
   "metadata": {},
   "source": [
    "# Manual Integration Workbook\n",
    "\n",
    "* this workbook is run once for each sample.\n",
    "* change `path_samples` (cell 2) to wherever you unzipped the folder on your local machine\n",
    "* change `sample_name`, `m` and `c` parameters (gradient and intercept, respectively) in cell 5, then run cell 6 to check the visualization. Run cell 5 and 6 as many times as you like until you get a fit that you like, then run cell 7 (last cell) to calculate conc based on AUC."
   ]
  },
  {
   "cell_type": "code",
   "execution_count": null,
   "id": "29a78ee6-f723-48dd-92d2-f61121bb4316",
   "metadata": {},
   "outputs": [],
   "source": [
    "# CELL 1\n",
    "\n",
    "%matplotlib inline\n",
    "import matplotlib.pyplot as plt\n",
    "import matplotlib.patches as patches\n",
    "\n",
    "import numpy as np\n",
    "import pandas as pd\n",
    "pd.set_option('display.max_rows', 50)\n",
    "import os\n",
    "import json\n",
    "import time\n",
    "import re\n",
    "import math\n",
    "import pickle\n",
    "\n",
    "import sys\n",
    "sys.path.append(\"/Users/dteng/Documents/bin/nmr_utils/\")\n",
    "from nmr_targeted_utils import *\n",
    "from nmr_fitting_funcs import *\n"
   ]
  },
  {
   "cell_type": "code",
   "execution_count": null,
   "id": "2d22c6e4-8787-4e8e-aade-dc1049cbec88",
   "metadata": {},
   "outputs": [],
   "source": [
    "# CELL 2\n",
    "\n",
    "# ===== params =====\n",
    "template_path = \"lproline_ph3.csv\"\n",
    "# change path_samples as required. Use the full path, which is easiest obtained from the topbar in Win Explorer\n",
    "path_samples = \"/Users/dteng/Documents/zdata/nmr/J202208B_pro_survey/manual_integ_20240112_pkg/manual_integ_20240112_csvs\"\n",
    "bs_grad_path = \"bootstrap_results_12sep2023.csv\"\n",
    "blue_m1_pkl_path = \"blue_m1_dict_20240112.pkl\"\n",
    "\n",
    "multiplets_ls = [[1.9,2.15], [2.295, 2.403], [3.25, 3.5],[4.1, 4.2]]\n",
    "ref_pk_window = [-0.02, 0.02]\n",
    "ref_pk_tolerance_window = [0,0]\n",
    "search_region_padding_size = 0.02\n",
    "\n",
    "# ========== load data ==========\n",
    "# load STD template(s)\n",
    "template_df = pd.read_csv(template_path)\n",
    "template_df = adjust_to_ref_peak(template_df, ref_pk_window, ref_pk_tolerance_window)\n",
    "\n",
    "# load blue_m1_dict\n",
    "with open(blue_m1_pkl_path, 'rb') as f:\n",
    "    blue_m1_dict = pickle.load(f)\n",
    "\n",
    "# load sample data\n",
    "df_dict = {}\n",
    "for fn in os.listdir(path_samples):\n",
    "    if \".csv\" in fn:\n",
    "        k = fn.replace(\".csv\", \"\")\n",
    "        df_dict[k] = pd.read_csv(os.path.join(path_samples, fn))\n",
    "\n",
    "# load gradient data\n",
    "grad_df = pd.read_csv(bs_grad_path)\n",
    "\n",
    "# get reds and blues\n",
    "red_dt = template_df.copy()\n",
    "red_dt = red_dt.loc[(red_dt[\"ppm\"]>min(multiplets_ls[1])) & (red_dt[\"ppm\"]<max(multiplets_ls[1]))]\n"
   ]
  },
  {
   "cell_type": "code",
   "execution_count": null,
   "id": "7f54d53e-42d4-486e-9188-f8128341f968",
   "metadata": {},
   "outputs": [],
   "source": [
    "# CELL 3\n",
    "\n",
    "# user: ignore this cell. Admin only\n",
    "# ===== run 1d_std_search =====\n",
    "# results_dict = {}\n",
    "# for k in sorted(list(df_dict.keys())):\n",
    "#     target_df = df_dict[k]\n",
    "#     results_dict[k] = do_1d_std_search(\n",
    "#         query_df=template_df,\n",
    "#         target_df=target_df,\n",
    "#         multiplets_ls=multiplets_ls,\n",
    "#         search_region_padding_size=search_region_padding_size\n",
    "#     )\n",
    "\n",
    "# # get corr_series for each k, stored in corr_series_dict\n",
    "# blue_m1_dict = get_blue_m1_dict(results_dict, \n",
    "#                                 df_dict,\n",
    "#                                 mcoords=multiplets_ls[1]\n",
    "#                                )\n",
    "\n"
   ]
  },
  {
   "cell_type": "code",
   "execution_count": null,
   "id": "b82720b1-37f4-41bb-b4f9-d770402be7fe",
   "metadata": {},
   "outputs": [],
   "source": [
    "# CELL 4\n",
    "\n",
    "# print out list of sample names, to copy-paste into cell 5\n",
    "for k in sorted(list(df_dict.keys())):\n",
    "    print(k)"
   ]
  },
  {
   "cell_type": "markdown",
   "id": "17285c81-bee1-4c1a-888a-aec7a0bfec58",
   "metadata": {},
   "source": [
    "### Toggle Constant And Coefficient\n",
    "\n",
    "Change gradient (`m`) and intercept (`c`) as needed, iterating until the blue (`sample`) and red (`std`) fit in the plot in the cell one after this one. "
   ]
  },
  {
   "cell_type": "code",
   "execution_count": null,
   "id": "b751a36a-9413-42b8-a36a-6587974e0623",
   "metadata": {},
   "outputs": [],
   "source": [
    "# CELL 5\n",
    "\n",
    "# pick a sample\n",
    "sample_name = \"AF65299\"\n",
    "# gradient, change as required\n",
    "m = 0.3\n",
    "# intercept, change as required\n",
    "c = 1E6"
   ]
  },
  {
   "cell_type": "code",
   "execution_count": null,
   "id": "6b817896-99ca-46fa-9a2a-65b9f109f626",
   "metadata": {},
   "outputs": [],
   "source": [
    "# CELL 6\n",
    "\n",
    "blue_m1_dt = blue_m1_dict[sample_name].copy()\n",
    "\n",
    "plt.figure(figsize=(10, 6))\n",
    "\n",
    "plt.plot(blue_m1_dt.ppm.values, blue_m1_dt.intensity.values, c=\"steelblue\", label=sample_name)\n",
    "plt.plot(red_dt.ppm.values, (red_dt.intensity.values*m)+c, c=\"indianred\", label=\"std\")\n",
    "plt.legend()\n",
    "\n",
    "plt.show()"
   ]
  },
  {
   "cell_type": "code",
   "execution_count": null,
   "id": "d1b7efef-537d-43f4-99af-db8e2791a05c",
   "metadata": {},
   "outputs": [],
   "source": [
    "# CELL 7\n",
    "\n",
    "# print out AUC\n",
    "auc = np.sum(red_dt.intensity.values*m)+c\n",
    "print(auc)\n",
    "\n",
    "conc_ls = grad_df[\"V1\"].values * auc\n",
    "print(f\"conc: average = {np.average(conc_ls)}, sd = {np.std(conc_ls, ddof=1)}\")"
   ]
  },
  {
   "cell_type": "code",
   "execution_count": null,
   "id": "83195b38-fe40-49a9-b5f8-7fe0ad51839e",
   "metadata": {},
   "outputs": [],
   "source": []
  }
 ],
 "metadata": {
  "kernelspec": {
   "display_name": "Python 3 (ipykernel)",
   "language": "python",
   "name": "python3"
  },
  "language_info": {
   "codemirror_mode": {
    "name": "ipython",
    "version": 3
   },
   "file_extension": ".py",
   "mimetype": "text/x-python",
   "name": "python",
   "nbconvert_exporter": "python",
   "pygments_lexer": "ipython3",
   "version": "3.10.0"
  }
 },
 "nbformat": 4,
 "nbformat_minor": 5
}
